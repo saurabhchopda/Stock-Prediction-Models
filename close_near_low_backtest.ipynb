{
 "cells": [
  {
   "cell_type": "markdown",
   "metadata": {},
   "source": [
    "Strategy rules:\n",
    "\n",
    "1. Check if today's close is in the bottom n % of the day's range\n",
    "2. If condition is met then enter on the close and exit the next day's close, unless the signal is repeated."
   ]
  },
  {
   "cell_type": "code",
   "execution_count": null,
   "metadata": {},
   "outputs": [
    {
     "name": "stderr",
     "output_type": "stream",
     "text": [
      "/Users/saurabhchopda/AlgoTrading/Stock-Prediction-Models/stock-env/lib/python3.9/site-packages/urllib3/__init__.py:35: NotOpenSSLWarning: urllib3 v2 only supports OpenSSL 1.1.1+, currently the 'ssl' module is compiled with 'LibreSSL 2.8.3'. See: https://github.com/urllib3/urllib3/issues/3020\n",
      "  warnings.warn(\n"
     ]
    }
   ],
   "source": [
    "#import libraries\n",
    "import yfinance as yf\n",
    "import numpy as np\n",
    "from matplotlib import pyplot as plt\n",
    "import datetime\n",
    "\n",
    "%matplotlib inline"
   ]
  },
  {
   "cell_type": "code",
   "execution_count": 2,
   "metadata": {},
   "outputs": [],
   "source": [
    "#define starting variables\n",
    "SYMBOL = \"AMZN\"\n",
    "STARTING_BALANCE = 1000\n",
    "PCT_THRESH = 10"
   ]
  },
  {
   "cell_type": "code",
   "execution_count": null,
   "metadata": {},
   "outputs": [],
   "source": [
    "#define date range\n",
    "START = datetime.datetime(2022, 1, 1)\n",
    "END = datetime.datetime.today()\n",
    "YEARS = (END - START).days/ 365.25"
   ]
  },
  {
   "cell_type": "code",
   "execution_count": 4,
   "metadata": {},
   "outputs": [
    {
     "name": "stderr",
     "output_type": "stream",
     "text": [
      "[*********************100%%**********************]  1 of 1 completed\n"
     ]
    },
    {
     "data": {
      "text/html": [
       "<div>\n",
       "<style scoped>\n",
       "    .dataframe tbody tr th:only-of-type {\n",
       "        vertical-align: middle;\n",
       "    }\n",
       "\n",
       "    .dataframe tbody tr th {\n",
       "        vertical-align: top;\n",
       "    }\n",
       "\n",
       "    .dataframe thead th {\n",
       "        text-align: right;\n",
       "    }\n",
       "</style>\n",
       "<table border=\"1\" class=\"dataframe\">\n",
       "  <thead>\n",
       "    <tr style=\"text-align: right;\">\n",
       "      <th></th>\n",
       "      <th>Open</th>\n",
       "      <th>High</th>\n",
       "      <th>Low</th>\n",
       "      <th>Close</th>\n",
       "      <th>Adj Close</th>\n",
       "      <th>Volume</th>\n",
       "    </tr>\n",
       "    <tr>\n",
       "      <th>Date</th>\n",
       "      <th></th>\n",
       "      <th></th>\n",
       "      <th></th>\n",
       "      <th></th>\n",
       "      <th></th>\n",
       "      <th></th>\n",
       "    </tr>\n",
       "  </thead>\n",
       "  <tbody>\n",
       "    <tr>\n",
       "      <th>2024-01-02</th>\n",
       "      <td>151.539993</td>\n",
       "      <td>152.380005</td>\n",
       "      <td>148.389999</td>\n",
       "      <td>149.929993</td>\n",
       "      <td>149.929993</td>\n",
       "      <td>47339400</td>\n",
       "    </tr>\n",
       "    <tr>\n",
       "      <th>2024-01-03</th>\n",
       "      <td>149.199997</td>\n",
       "      <td>151.050003</td>\n",
       "      <td>148.330002</td>\n",
       "      <td>148.470001</td>\n",
       "      <td>148.470001</td>\n",
       "      <td>49425500</td>\n",
       "    </tr>\n",
       "    <tr>\n",
       "      <th>2024-01-04</th>\n",
       "      <td>145.589996</td>\n",
       "      <td>147.380005</td>\n",
       "      <td>144.050003</td>\n",
       "      <td>144.570007</td>\n",
       "      <td>144.570007</td>\n",
       "      <td>56039800</td>\n",
       "    </tr>\n",
       "    <tr>\n",
       "      <th>2024-01-05</th>\n",
       "      <td>144.690002</td>\n",
       "      <td>146.589996</td>\n",
       "      <td>144.529999</td>\n",
       "      <td>145.240005</td>\n",
       "      <td>145.240005</td>\n",
       "      <td>45124800</td>\n",
       "    </tr>\n",
       "    <tr>\n",
       "      <th>2024-01-08</th>\n",
       "      <td>146.740005</td>\n",
       "      <td>149.399994</td>\n",
       "      <td>146.149994</td>\n",
       "      <td>149.100006</td>\n",
       "      <td>149.100006</td>\n",
       "      <td>46757100</td>\n",
       "    </tr>\n",
       "  </tbody>\n",
       "</table>\n",
       "</div>"
      ],
      "text/plain": [
       "                  Open        High         Low       Close   Adj Close  \\\n",
       "Date                                                                     \n",
       "2024-01-02  151.539993  152.380005  148.389999  149.929993  149.929993   \n",
       "2024-01-03  149.199997  151.050003  148.330002  148.470001  148.470001   \n",
       "2024-01-04  145.589996  147.380005  144.050003  144.570007  144.570007   \n",
       "2024-01-05  144.690002  146.589996  144.529999  145.240005  145.240005   \n",
       "2024-01-08  146.740005  149.399994  146.149994  149.100006  149.100006   \n",
       "\n",
       "              Volume  \n",
       "Date                  \n",
       "2024-01-02  47339400  \n",
       "2024-01-03  49425500  \n",
       "2024-01-04  56039800  \n",
       "2024-01-05  45124800  \n",
       "2024-01-08  46757100  "
      ]
     },
     "execution_count": 4,
     "metadata": {},
     "output_type": "execute_result"
    }
   ],
   "source": [
    "#download data\n",
    "price = yf.download(SYMBOL, start=START, end=END)\n",
    "\n",
    "price.head()"
   ]
  },
  {
   "cell_type": "code",
   "execution_count": 5,
   "metadata": {
    "scrolled": true
   },
   "outputs": [
    {
     "data": {
      "text/html": [
       "<div>\n",
       "<style scoped>\n",
       "    .dataframe tbody tr th:only-of-type {\n",
       "        vertical-align: middle;\n",
       "    }\n",
       "\n",
       "    .dataframe tbody tr th {\n",
       "        vertical-align: top;\n",
       "    }\n",
       "\n",
       "    .dataframe thead th {\n",
       "        text-align: right;\n",
       "    }\n",
       "</style>\n",
       "<table border=\"1\" class=\"dataframe\">\n",
       "  <thead>\n",
       "    <tr style=\"text-align: right;\">\n",
       "      <th></th>\n",
       "      <th>Open</th>\n",
       "      <th>High</th>\n",
       "      <th>Low</th>\n",
       "      <th>Close</th>\n",
       "    </tr>\n",
       "    <tr>\n",
       "      <th>Date</th>\n",
       "      <th></th>\n",
       "      <th></th>\n",
       "      <th></th>\n",
       "      <th></th>\n",
       "    </tr>\n",
       "  </thead>\n",
       "  <tbody>\n",
       "    <tr>\n",
       "      <th>2024-10-28</th>\n",
       "      <td>189.570007</td>\n",
       "      <td>190.210007</td>\n",
       "      <td>188.210007</td>\n",
       "      <td>188.389999</td>\n",
       "    </tr>\n",
       "    <tr>\n",
       "      <th>2024-10-29</th>\n",
       "      <td>188.580002</td>\n",
       "      <td>191.460007</td>\n",
       "      <td>187.820007</td>\n",
       "      <td>190.830002</td>\n",
       "    </tr>\n",
       "    <tr>\n",
       "      <th>2024-10-30</th>\n",
       "      <td>194.699997</td>\n",
       "      <td>195.610001</td>\n",
       "      <td>192.419998</td>\n",
       "      <td>192.729996</td>\n",
       "    </tr>\n",
       "    <tr>\n",
       "      <th>2024-10-31</th>\n",
       "      <td>190.509995</td>\n",
       "      <td>190.600006</td>\n",
       "      <td>185.229996</td>\n",
       "      <td>186.399994</td>\n",
       "    </tr>\n",
       "    <tr>\n",
       "      <th>2024-11-01</th>\n",
       "      <td>199.000000</td>\n",
       "      <td>200.500000</td>\n",
       "      <td>197.020004</td>\n",
       "      <td>197.929993</td>\n",
       "    </tr>\n",
       "  </tbody>\n",
       "</table>\n",
       "</div>"
      ],
      "text/plain": [
       "                  Open        High         Low       Close\n",
       "Date                                                      \n",
       "2024-10-28  189.570007  190.210007  188.210007  188.389999\n",
       "2024-10-29  188.580002  191.460007  187.820007  190.830002\n",
       "2024-10-30  194.699997  195.610001  192.419998  192.729996\n",
       "2024-10-31  190.509995  190.600006  185.229996  186.399994\n",
       "2024-11-01  199.000000  200.500000  197.020004  197.929993"
      ]
     },
     "execution_count": 5,
     "metadata": {},
     "output_type": "execute_result"
    }
   ],
   "source": [
    "#drop redundant columns\n",
    "price = price.drop(['Volume', 'Adj Close'], axis=1)\n",
    "\n",
    "price.tail()"
   ]
  },
  {
   "cell_type": "code",
   "execution_count": 6,
   "metadata": {},
   "outputs": [
    {
     "data": {
      "image/png": "[encoded data removed]",
      "text/plain": [
       "<Figure size 800x550 with 1 Axes>"
      ]
     },
     "metadata": {},
     "output_type": "display_data"
    }
   ],
   "source": [
    "#plot chart\n",
    "plt.style.use('seaborn-v0_8')\n",
    "plt.plot(price.Close)\n",
    "plt.show()"
   ]
  },
  {
   "cell_type": "code",
   "execution_count": 7,
   "metadata": {},
   "outputs": [
    {
     "data": {
      "text/html": [
       "<div>\n",
       "<style scoped>\n",
       "    .dataframe tbody tr th:only-of-type {\n",
       "        vertical-align: middle;\n",
       "    }\n",
       "\n",
       "    .dataframe tbody tr th {\n",
       "        vertical-align: top;\n",
       "    }\n",
       "\n",
       "    .dataframe thead th {\n",
       "        text-align: right;\n",
       "    }\n",
       "</style>\n",
       "<table border=\"1\" class=\"dataframe\">\n",
       "  <thead>\n",
       "    <tr style=\"text-align: right;\">\n",
       "      <th></th>\n",
       "      <th>Open</th>\n",
       "      <th>High</th>\n",
       "      <th>Low</th>\n",
       "      <th>Close</th>\n",
       "      <th>Return</th>\n",
       "      <th>Bench_Bal</th>\n",
       "    </tr>\n",
       "    <tr>\n",
       "      <th>Date</th>\n",
       "      <th></th>\n",
       "      <th></th>\n",
       "      <th></th>\n",
       "      <th></th>\n",
       "      <th></th>\n",
       "      <th></th>\n",
       "    </tr>\n",
       "  </thead>\n",
       "  <tbody>\n",
       "    <tr>\n",
       "      <th>2024-10-28</th>\n",
       "      <td>189.570007</td>\n",
       "      <td>190.210007</td>\n",
       "      <td>188.210007</td>\n",
       "      <td>188.389999</td>\n",
       "      <td>1.002981</td>\n",
       "      <td>1256.519767</td>\n",
       "    </tr>\n",
       "    <tr>\n",
       "      <th>2024-10-29</th>\n",
       "      <td>188.580002</td>\n",
       "      <td>191.460007</td>\n",
       "      <td>187.820007</td>\n",
       "      <td>190.830002</td>\n",
       "      <td>1.012952</td>\n",
       "      <td>1272.794045</td>\n",
       "    </tr>\n",
       "    <tr>\n",
       "      <th>2024-10-30</th>\n",
       "      <td>194.699997</td>\n",
       "      <td>195.610001</td>\n",
       "      <td>192.419998</td>\n",
       "      <td>192.729996</td>\n",
       "      <td>1.009956</td>\n",
       "      <td>1285.466585</td>\n",
       "    </tr>\n",
       "    <tr>\n",
       "      <th>2024-10-31</th>\n",
       "      <td>190.509995</td>\n",
       "      <td>190.600006</td>\n",
       "      <td>185.229996</td>\n",
       "      <td>186.399994</td>\n",
       "      <td>0.967156</td>\n",
       "      <td>1243.246869</td>\n",
       "    </tr>\n",
       "    <tr>\n",
       "      <th>2024-11-01</th>\n",
       "      <td>199.000000</td>\n",
       "      <td>200.500000</td>\n",
       "      <td>197.020004</td>\n",
       "      <td>197.929993</td>\n",
       "      <td>1.061856</td>\n",
       "      <td>1320.149419</td>\n",
       "    </tr>\n",
       "  </tbody>\n",
       "</table>\n",
       "</div>"
      ],
      "text/plain": [
       "                  Open        High         Low       Close    Return  \\\n",
       "Date                                                                   \n",
       "2024-10-28  189.570007  190.210007  188.210007  188.389999  1.002981   \n",
       "2024-10-29  188.580002  191.460007  187.820007  190.830002  1.012952   \n",
       "2024-10-30  194.699997  195.610001  192.419998  192.729996  1.009956   \n",
       "2024-10-31  190.509995  190.600006  185.229996  186.399994  0.967156   \n",
       "2024-11-01  199.000000  200.500000  197.020004  197.929993  1.061856   \n",
       "\n",
       "              Bench_Bal  \n",
       "Date                     \n",
       "2024-10-28  1256.519767  \n",
       "2024-10-29  1272.794045  \n",
       "2024-10-30  1285.466585  \n",
       "2024-10-31  1243.246869  \n",
       "2024-11-01  1320.149419  "
      ]
     },
     "execution_count": 7,
     "metadata": {},
     "output_type": "execute_result"
    }
   ],
   "source": [
    "#calculate benchmark return and balance\n",
    "price['Return'] = price.Close / price.Close.shift(1)\n",
    "price.Return.iat[0] = 1\n",
    "price['Bench_Bal'] = STARTING_BALANCE * price.Return.cumprod()\n",
    "\n",
    "price.tail()"
   ]
  },
  {
   "cell_type": "code",
   "execution_count": 8,
   "metadata": {},
   "outputs": [
    {
     "data": {
      "text/plain": [
       "-19.49"
      ]
     },
     "execution_count": 8,
     "metadata": {},
     "output_type": "execute_result"
    }
   ],
   "source": [
    "#calculate benchmark drawdown\n",
    "price['Bench_Peak'] = price.Bench_Bal.cummax()\n",
    "price['Bench_DD'] = price.Bench_Bal - price.Bench_Peak\n",
    "\n",
    "bench_dd = round(((price.Bench_DD / price.Bench_Peak).min() * 100), 2)\n",
    "\n",
    "bench_dd"
   ]
  },
  {
   "cell_type": "code",
   "execution_count": 9,
   "metadata": {},
   "outputs": [
    {
     "data": {
      "text/html": [
       "<div>\n",
       "<style scoped>\n",
       "    .dataframe tbody tr th:only-of-type {\n",
       "        vertical-align: middle;\n",
       "    }\n",
       "\n",
       "    .dataframe tbody tr th {\n",
       "        vertical-align: top;\n",
       "    }\n",
       "\n",
       "    .dataframe thead th {\n",
       "        text-align: right;\n",
       "    }\n",
       "</style>\n",
       "<table border=\"1\" class=\"dataframe\">\n",
       "  <thead>\n",
       "    <tr style=\"text-align: right;\">\n",
       "      <th></th>\n",
       "      <th>Open</th>\n",
       "      <th>High</th>\n",
       "      <th>Low</th>\n",
       "      <th>Close</th>\n",
       "      <th>Return</th>\n",
       "      <th>Bench_Bal</th>\n",
       "      <th>Bench_Peak</th>\n",
       "      <th>Bench_DD</th>\n",
       "      <th>Range</th>\n",
       "      <th>Dist</th>\n",
       "      <th>Pct</th>\n",
       "    </tr>\n",
       "    <tr>\n",
       "      <th>Date</th>\n",
       "      <th></th>\n",
       "      <th></th>\n",
       "      <th></th>\n",
       "      <th></th>\n",
       "      <th></th>\n",
       "      <th></th>\n",
       "      <th></th>\n",
       "      <th></th>\n",
       "      <th></th>\n",
       "      <th></th>\n",
       "      <th></th>\n",
       "    </tr>\n",
       "  </thead>\n",
       "  <tbody>\n",
       "    <tr>\n",
       "      <th>2024-10-28</th>\n",
       "      <td>189.570007</td>\n",
       "      <td>190.210007</td>\n",
       "      <td>188.210007</td>\n",
       "      <td>188.389999</td>\n",
       "      <td>1.002981</td>\n",
       "      <td>1256.519767</td>\n",
       "      <td>1333.955911</td>\n",
       "      <td>-77.436145</td>\n",
       "      <td>2.000000</td>\n",
       "      <td>0.179993</td>\n",
       "      <td>8.999634</td>\n",
       "    </tr>\n",
       "    <tr>\n",
       "      <th>2024-10-29</th>\n",
       "      <td>188.580002</td>\n",
       "      <td>191.460007</td>\n",
       "      <td>187.820007</td>\n",
       "      <td>190.830002</td>\n",
       "      <td>1.012952</td>\n",
       "      <td>1272.794045</td>\n",
       "      <td>1333.955911</td>\n",
       "      <td>-61.161866</td>\n",
       "      <td>3.639999</td>\n",
       "      <td>3.009995</td>\n",
       "      <td>82.692171</td>\n",
       "    </tr>\n",
       "    <tr>\n",
       "      <th>2024-10-30</th>\n",
       "      <td>194.699997</td>\n",
       "      <td>195.610001</td>\n",
       "      <td>192.419998</td>\n",
       "      <td>192.729996</td>\n",
       "      <td>1.009956</td>\n",
       "      <td>1285.466585</td>\n",
       "      <td>1333.955911</td>\n",
       "      <td>-48.489326</td>\n",
       "      <td>3.190002</td>\n",
       "      <td>0.309998</td>\n",
       "      <td>9.717784</td>\n",
       "    </tr>\n",
       "    <tr>\n",
       "      <th>2024-10-31</th>\n",
       "      <td>190.509995</td>\n",
       "      <td>190.600006</td>\n",
       "      <td>185.229996</td>\n",
       "      <td>186.399994</td>\n",
       "      <td>0.967156</td>\n",
       "      <td>1243.246869</td>\n",
       "      <td>1333.955911</td>\n",
       "      <td>-90.709043</td>\n",
       "      <td>5.370010</td>\n",
       "      <td>1.169998</td>\n",
       "      <td>21.787633</td>\n",
       "    </tr>\n",
       "    <tr>\n",
       "      <th>2024-11-01</th>\n",
       "      <td>199.000000</td>\n",
       "      <td>200.500000</td>\n",
       "      <td>197.020004</td>\n",
       "      <td>197.929993</td>\n",
       "      <td>1.061856</td>\n",
       "      <td>1320.149419</td>\n",
       "      <td>1333.955911</td>\n",
       "      <td>-13.806493</td>\n",
       "      <td>3.479996</td>\n",
       "      <td>0.909988</td>\n",
       "      <td>26.149124</td>\n",
       "    </tr>\n",
       "  </tbody>\n",
       "</table>\n",
       "</div>"
      ],
      "text/plain": [
       "                  Open        High         Low       Close    Return  \\\n",
       "Date                                                                   \n",
       "2024-10-28  189.570007  190.210007  188.210007  188.389999  1.002981   \n",
       "2024-10-29  188.580002  191.460007  187.820007  190.830002  1.012952   \n",
       "2024-10-30  194.699997  195.610001  192.419998  192.729996  1.009956   \n",
       "2024-10-31  190.509995  190.600006  185.229996  186.399994  0.967156   \n",
       "2024-11-01  199.000000  200.500000  197.020004  197.929993  1.061856   \n",
       "\n",
       "              Bench_Bal   Bench_Peak   Bench_DD     Range      Dist        Pct  \n",
       "Date                                                                            \n",
       "2024-10-28  1256.519767  1333.955911 -77.436145  2.000000  0.179993   8.999634  \n",
       "2024-10-29  1272.794045  1333.955911 -61.161866  3.639999  3.009995  82.692171  \n",
       "2024-10-30  1285.466585  1333.955911 -48.489326  3.190002  0.309998   9.717784  \n",
       "2024-10-31  1243.246869  1333.955911 -90.709043  5.370010  1.169998  21.787633  \n",
       "2024-11-01  1320.149419  1333.955911 -13.806493  3.479996  0.909988  26.149124  "
      ]
     },
     "execution_count": 9,
     "metadata": {},
     "output_type": "execute_result"
    }
   ],
   "source": [
    "#calculate additional columns for strategy\n",
    "\n",
    "#daily range\n",
    "price['Range'] = price.High - price.Low\n",
    "#distance between close and daily low\n",
    "price['Dist'] = abs(price.Close - price.Low)\n",
    "#distance as % of range\n",
    "price['Pct'] = (price.Dist / price.Range) * 100\n",
    "\n",
    "price.tail()"
   ]
  },
  {
   "cell_type": "code",
   "execution_count": 10,
   "metadata": {},
   "outputs": [],
   "source": [
    "#identify entries and allocate trading fees\n",
    "price['Long'] = np.logical_and((price.Pct < PCT_THRESH), (price.Range > 10))"
   ]
  },
  {
   "cell_type": "code",
   "execution_count": 11,
   "metadata": {},
   "outputs": [
    {
     "data": {
      "text/html": [
       "<div>\n",
       "<style scoped>\n",
       "    .dataframe tbody tr th:only-of-type {\n",
       "        vertical-align: middle;\n",
       "    }\n",
       "\n",
       "    .dataframe tbody tr th {\n",
       "        vertical-align: top;\n",
       "    }\n",
       "\n",
       "    .dataframe thead th {\n",
       "        text-align: right;\n",
       "    }\n",
       "</style>\n",
       "<table border=\"1\" class=\"dataframe\">\n",
       "  <thead>\n",
       "    <tr style=\"text-align: right;\">\n",
       "      <th></th>\n",
       "      <th>Open</th>\n",
       "      <th>High</th>\n",
       "      <th>Low</th>\n",
       "      <th>Close</th>\n",
       "      <th>Return</th>\n",
       "      <th>Bench_Bal</th>\n",
       "      <th>Bench_Peak</th>\n",
       "      <th>Bench_DD</th>\n",
       "      <th>Range</th>\n",
       "      <th>Dist</th>\n",
       "      <th>Pct</th>\n",
       "      <th>Long</th>\n",
       "      <th>Sys_Ret</th>\n",
       "      <th>Sys_Bal</th>\n",
       "    </tr>\n",
       "    <tr>\n",
       "      <th>Date</th>\n",
       "      <th></th>\n",
       "      <th></th>\n",
       "      <th></th>\n",
       "      <th></th>\n",
       "      <th></th>\n",
       "      <th></th>\n",
       "      <th></th>\n",
       "      <th></th>\n",
       "      <th></th>\n",
       "      <th></th>\n",
       "      <th></th>\n",
       "      <th></th>\n",
       "      <th></th>\n",
       "      <th></th>\n",
       "    </tr>\n",
       "  </thead>\n",
       "  <tbody>\n",
       "    <tr>\n",
       "      <th>2024-10-28</th>\n",
       "      <td>189.570007</td>\n",
       "      <td>190.210007</td>\n",
       "      <td>188.210007</td>\n",
       "      <td>188.389999</td>\n",
       "      <td>1.002981</td>\n",
       "      <td>1256.519767</td>\n",
       "      <td>1333.955911</td>\n",
       "      <td>-77.436145</td>\n",
       "      <td>2.000000</td>\n",
       "      <td>0.179993</td>\n",
       "      <td>8.999634</td>\n",
       "      <td>False</td>\n",
       "      <td>1.0</td>\n",
       "      <td>1000.0</td>\n",
       "    </tr>\n",
       "    <tr>\n",
       "      <th>2024-10-29</th>\n",
       "      <td>188.580002</td>\n",
       "      <td>191.460007</td>\n",
       "      <td>187.820007</td>\n",
       "      <td>190.830002</td>\n",
       "      <td>1.012952</td>\n",
       "      <td>1272.794045</td>\n",
       "      <td>1333.955911</td>\n",
       "      <td>-61.161866</td>\n",
       "      <td>3.639999</td>\n",
       "      <td>3.009995</td>\n",
       "      <td>82.692171</td>\n",
       "      <td>False</td>\n",
       "      <td>1.0</td>\n",
       "      <td>1000.0</td>\n",
       "    </tr>\n",
       "    <tr>\n",
       "      <th>2024-10-30</th>\n",
       "      <td>194.699997</td>\n",
       "      <td>195.610001</td>\n",
       "      <td>192.419998</td>\n",
       "      <td>192.729996</td>\n",
       "      <td>1.009956</td>\n",
       "      <td>1285.466585</td>\n",
       "      <td>1333.955911</td>\n",
       "      <td>-48.489326</td>\n",
       "      <td>3.190002</td>\n",
       "      <td>0.309998</td>\n",
       "      <td>9.717784</td>\n",
       "      <td>False</td>\n",
       "      <td>1.0</td>\n",
       "      <td>1000.0</td>\n",
       "    </tr>\n",
       "    <tr>\n",
       "      <th>2024-10-31</th>\n",
       "      <td>190.509995</td>\n",
       "      <td>190.600006</td>\n",
       "      <td>185.229996</td>\n",
       "      <td>186.399994</td>\n",
       "      <td>0.967156</td>\n",
       "      <td>1243.246869</td>\n",
       "      <td>1333.955911</td>\n",
       "      <td>-90.709043</td>\n",
       "      <td>5.370010</td>\n",
       "      <td>1.169998</td>\n",
       "      <td>21.787633</td>\n",
       "      <td>False</td>\n",
       "      <td>1.0</td>\n",
       "      <td>1000.0</td>\n",
       "    </tr>\n",
       "    <tr>\n",
       "      <th>2024-11-01</th>\n",
       "      <td>199.000000</td>\n",
       "      <td>200.500000</td>\n",
       "      <td>197.020004</td>\n",
       "      <td>197.929993</td>\n",
       "      <td>1.061856</td>\n",
       "      <td>1320.149419</td>\n",
       "      <td>1333.955911</td>\n",
       "      <td>-13.806493</td>\n",
       "      <td>3.479996</td>\n",
       "      <td>0.909988</td>\n",
       "      <td>26.149124</td>\n",
       "      <td>False</td>\n",
       "      <td>1.0</td>\n",
       "      <td>1000.0</td>\n",
       "    </tr>\n",
       "  </tbody>\n",
       "</table>\n",
       "</div>"
      ],
      "text/plain": [
       "                  Open        High         Low       Close    Return  \\\n",
       "Date                                                                   \n",
       "2024-10-28  189.570007  190.210007  188.210007  188.389999  1.002981   \n",
       "2024-10-29  188.580002  191.460007  187.820007  190.830002  1.012952   \n",
       "2024-10-30  194.699997  195.610001  192.419998  192.729996  1.009956   \n",
       "2024-10-31  190.509995  190.600006  185.229996  186.399994  0.967156   \n",
       "2024-11-01  199.000000  200.500000  197.020004  197.929993  1.061856   \n",
       "\n",
       "              Bench_Bal   Bench_Peak   Bench_DD     Range      Dist  \\\n",
       "Date                                                                  \n",
       "2024-10-28  1256.519767  1333.955911 -77.436145  2.000000  0.179993   \n",
       "2024-10-29  1272.794045  1333.955911 -61.161866  3.639999  3.009995   \n",
       "2024-10-30  1285.466585  1333.955911 -48.489326  3.190002  0.309998   \n",
       "2024-10-31  1243.246869  1333.955911 -90.709043  5.370010  1.169998   \n",
       "2024-11-01  1320.149419  1333.955911 -13.806493  3.479996  0.909988   \n",
       "\n",
       "                  Pct   Long  Sys_Ret  Sys_Bal  \n",
       "Date                                            \n",
       "2024-10-28   8.999634  False      1.0   1000.0  \n",
       "2024-10-29  82.692171  False      1.0   1000.0  \n",
       "2024-10-30   9.717784  False      1.0   1000.0  \n",
       "2024-10-31  21.787633  False      1.0   1000.0  \n",
       "2024-11-01  26.149124  False      1.0   1000.0  "
      ]
     },
     "execution_count": 11,
     "metadata": {},
     "output_type": "execute_result"
    }
   ],
   "source": [
    "#calculate system return and balance\n",
    "price['Sys_Ret'] = np.where(price.Long.shift(1) == True, price.Return, 1)\n",
    "price['Sys_Bal'] = (STARTING_BALANCE * price.Sys_Ret.cumprod())\n",
    "\n",
    "price.tail()"
   ]
  },
  {
   "cell_type": "code",
   "execution_count": 12,
   "metadata": {},
   "outputs": [
    {
     "data": {
      "image/png": "[encoded data removed]",
      "text/plain": [
       "<Figure size 800x550 with 1 Axes>"
      ]
     },
     "metadata": {},
     "output_type": "display_data"
    }
   ],
   "source": [
    "#plot balance\n",
    "plt.plot(price.Bench_Bal)\n",
    "plt.plot(price.Sys_Bal, color=\"g\")\n",
    "\n",
    "plt.show()"
   ]
  },
  {
   "cell_type": "code",
   "execution_count": 13,
   "metadata": {
    "scrolled": true
   },
   "outputs": [
    {
     "data": {
      "text/plain": [
       "0.0"
      ]
     },
     "execution_count": 13,
     "metadata": {},
     "output_type": "execute_result"
    }
   ],
   "source": [
    "#calculate system drawdown\n",
    "price['Sys_Peak'] = price.Sys_Bal.cummax()\n",
    "price['Sys_DD'] = price.Sys_Bal - price.Sys_Peak\n",
    "\n",
    "sys_dd = round(((price.Sys_DD / price.Sys_Peak).min()) * 100, 2)\n",
    "\n",
    "sys_dd"
   ]
  },
  {
   "cell_type": "code",
   "execution_count": 21,
   "metadata": {},
   "outputs": [
    {
     "ename": "KeyError",
     "evalue": "True",
     "output_type": "error",
     "traceback": [
      "\u001b[0;31m---------------------------------------------------------------------------\u001b[0m",
      "\u001b[0;31mKeyError\u001b[0m                                  Traceback (most recent call last)",
      "File \u001b[0;32m~/AlgoTrading/Stock-Prediction-Models/stock-env/lib/python3.9/site-packages/pandas/core/indexes/base.py:3805\u001b[0m, in \u001b[0;36mIndex.get_loc\u001b[0;34m(self, key)\u001b[0m\n\u001b[1;32m   3804\u001b[0m \u001b[38;5;28;01mtry\u001b[39;00m:\n\u001b[0;32m-> 3805\u001b[0m     \u001b[38;5;28;01mreturn\u001b[39;00m \u001b[38;5;28;43mself\u001b[39;49m\u001b[38;5;241;43m.\u001b[39;49m\u001b[43m_engine\u001b[49m\u001b[38;5;241;43m.\u001b[39;49m\u001b[43mget_loc\u001b[49m\u001b[43m(\u001b[49m\u001b[43mcasted_key\u001b[49m\u001b[43m)\u001b[49m\n\u001b[1;32m   3806\u001b[0m \u001b[38;5;28;01mexcept\u001b[39;00m \u001b[38;5;167;01mKeyError\u001b[39;00m \u001b[38;5;28;01mas\u001b[39;00m err:\n",
      "File \u001b[0;32mindex.pyx:167\u001b[0m, in \u001b[0;36mpandas._libs.index.IndexEngine.get_loc\u001b[0;34m()\u001b[0m\n",
      "File \u001b[0;32mindex.pyx:196\u001b[0m, in \u001b[0;36mpandas._libs.index.IndexEngine.get_loc\u001b[0;34m()\u001b[0m\n",
      "File \u001b[0;32mpandas/_libs/hashtable_class_helper.pxi:5846\u001b[0m, in \u001b[0;36mpandas._libs.hashtable.UInt8HashTable.get_item\u001b[0;34m()\u001b[0m\n",
      "File \u001b[0;32mpandas/_libs/hashtable_class_helper.pxi:5870\u001b[0m, in \u001b[0;36mpandas._libs.hashtable.UInt8HashTable.get_item\u001b[0;34m()\u001b[0m\n",
      "\u001b[0;31mKeyError\u001b[0m: 1",
      "\nThe above exception was the direct cause of the following exception:\n",
      "\u001b[0;31mKeyError\u001b[0m                                  Traceback (most recent call last)",
      "Cell \u001b[0;32mIn[21], line 6\u001b[0m\n\u001b[1;32m      4\u001b[0m sys_return \u001b[38;5;241m=\u001b[39m \u001b[38;5;28mround\u001b[39m(((price\u001b[38;5;241m.\u001b[39mSys_Bal\u001b[38;5;241m.\u001b[39miloc[\u001b[38;5;241m-\u001b[39m\u001b[38;5;241m1\u001b[39m]\u001b[38;5;241m/\u001b[39mprice\u001b[38;5;241m.\u001b[39mSys_Bal\u001b[38;5;241m.\u001b[39miloc[\u001b[38;5;241m0\u001b[39m]) \u001b[38;5;241m-\u001b[39m \u001b[38;5;241m1\u001b[39m) \u001b[38;5;241m*\u001b[39m \u001b[38;5;241m100\u001b[39m, \u001b[38;5;241m2\u001b[39m)\n\u001b[1;32m      5\u001b[0m sys_cagr \u001b[38;5;241m=\u001b[39m \u001b[38;5;28mround\u001b[39m(((((price\u001b[38;5;241m.\u001b[39mSys_Bal\u001b[38;5;241m.\u001b[39miloc[\u001b[38;5;241m-\u001b[39m\u001b[38;5;241m1\u001b[39m]\u001b[38;5;241m/\u001b[39mprice\u001b[38;5;241m.\u001b[39mSys_Bal\u001b[38;5;241m.\u001b[39miloc[\u001b[38;5;241m0\u001b[39m])\u001b[38;5;241m*\u001b[39m\u001b[38;5;241m*\u001b[39m(\u001b[38;5;241m1\u001b[39m\u001b[38;5;241m/\u001b[39mYEARS))\u001b[38;5;241m-\u001b[39m\u001b[38;5;241m1\u001b[39m)\u001b[38;5;241m*\u001b[39m\u001b[38;5;241m100\u001b[39m), \u001b[38;5;241m2\u001b[39m)\n\u001b[0;32m----> 6\u001b[0m sys_in_market \u001b[38;5;241m=\u001b[39m \u001b[38;5;28mround\u001b[39m((\u001b[43mprice\u001b[49m\u001b[38;5;241;43m.\u001b[39;49m\u001b[43mLong\u001b[49m\u001b[38;5;241;43m.\u001b[39;49m\u001b[43mvalue_counts\u001b[49m\u001b[43m(\u001b[49m\u001b[43m)\u001b[49m\u001b[38;5;241;43m.\u001b[39;49m\u001b[43mloc\u001b[49m\u001b[43m[\u001b[49m\u001b[38;5;28;43;01mTrue\u001b[39;49;00m\u001b[43m]\u001b[49m \u001b[38;5;241m/\u001b[39m \u001b[38;5;28mlen\u001b[39m(price)) \u001b[38;5;241m*\u001b[39m \u001b[38;5;241m100\u001b[39m)\n\u001b[1;32m      7\u001b[0m sys_win \u001b[38;5;241m=\u001b[39m price\u001b[38;5;241m.\u001b[39mSys_Ret[price\u001b[38;5;241m.\u001b[39mSys_Ret \u001b[38;5;241m>\u001b[39m \u001b[38;5;241m1.0\u001b[39m]\u001b[38;5;241m.\u001b[39mcount()\n\u001b[1;32m      8\u001b[0m sys_loss \u001b[38;5;241m=\u001b[39m price\u001b[38;5;241m.\u001b[39mSys_Ret[price\u001b[38;5;241m.\u001b[39mSys_Ret \u001b[38;5;241m<\u001b[39m \u001b[38;5;241m1.0\u001b[39m]\u001b[38;5;241m.\u001b[39mcount()\n",
      "File \u001b[0;32m~/AlgoTrading/Stock-Prediction-Models/stock-env/lib/python3.9/site-packages/pandas/core/indexing.py:1191\u001b[0m, in \u001b[0;36m_LocationIndexer.__getitem__\u001b[0;34m(self, key)\u001b[0m\n\u001b[1;32m   1189\u001b[0m maybe_callable \u001b[38;5;241m=\u001b[39m com\u001b[38;5;241m.\u001b[39mapply_if_callable(key, \u001b[38;5;28mself\u001b[39m\u001b[38;5;241m.\u001b[39mobj)\n\u001b[1;32m   1190\u001b[0m maybe_callable \u001b[38;5;241m=\u001b[39m \u001b[38;5;28mself\u001b[39m\u001b[38;5;241m.\u001b[39m_check_deprecated_callable_usage(key, maybe_callable)\n\u001b[0;32m-> 1191\u001b[0m \u001b[38;5;28;01mreturn\u001b[39;00m \u001b[38;5;28;43mself\u001b[39;49m\u001b[38;5;241;43m.\u001b[39;49m\u001b[43m_getitem_axis\u001b[49m\u001b[43m(\u001b[49m\u001b[43mmaybe_callable\u001b[49m\u001b[43m,\u001b[49m\u001b[43m \u001b[49m\u001b[43maxis\u001b[49m\u001b[38;5;241;43m=\u001b[39;49m\u001b[43maxis\u001b[49m\u001b[43m)\u001b[49m\n",
      "File \u001b[0;32m~/AlgoTrading/Stock-Prediction-Models/stock-env/lib/python3.9/site-packages/pandas/core/indexing.py:1431\u001b[0m, in \u001b[0;36m_LocIndexer._getitem_axis\u001b[0;34m(self, key, axis)\u001b[0m\n\u001b[1;32m   1429\u001b[0m \u001b[38;5;66;03m# fall thru to straight lookup\u001b[39;00m\n\u001b[1;32m   1430\u001b[0m \u001b[38;5;28mself\u001b[39m\u001b[38;5;241m.\u001b[39m_validate_key(key, axis)\n\u001b[0;32m-> 1431\u001b[0m \u001b[38;5;28;01mreturn\u001b[39;00m \u001b[38;5;28;43mself\u001b[39;49m\u001b[38;5;241;43m.\u001b[39;49m\u001b[43m_get_label\u001b[49m\u001b[43m(\u001b[49m\u001b[43mkey\u001b[49m\u001b[43m,\u001b[49m\u001b[43m \u001b[49m\u001b[43maxis\u001b[49m\u001b[38;5;241;43m=\u001b[39;49m\u001b[43maxis\u001b[49m\u001b[43m)\u001b[49m\n",
      "File \u001b[0;32m~/AlgoTrading/Stock-Prediction-Models/stock-env/lib/python3.9/site-packages/pandas/core/indexing.py:1381\u001b[0m, in \u001b[0;36m_LocIndexer._get_label\u001b[0;34m(self, label, axis)\u001b[0m\n\u001b[1;32m   1379\u001b[0m \u001b[38;5;28;01mdef\u001b[39;00m \u001b[38;5;21m_get_label\u001b[39m(\u001b[38;5;28mself\u001b[39m, label, axis: AxisInt):\n\u001b[1;32m   1380\u001b[0m     \u001b[38;5;66;03m# GH#5567 this will fail if the label is not present in the axis.\u001b[39;00m\n\u001b[0;32m-> 1381\u001b[0m     \u001b[38;5;28;01mreturn\u001b[39;00m \u001b[38;5;28;43mself\u001b[39;49m\u001b[38;5;241;43m.\u001b[39;49m\u001b[43mobj\u001b[49m\u001b[38;5;241;43m.\u001b[39;49m\u001b[43mxs\u001b[49m\u001b[43m(\u001b[49m\u001b[43mlabel\u001b[49m\u001b[43m,\u001b[49m\u001b[43m \u001b[49m\u001b[43maxis\u001b[49m\u001b[38;5;241;43m=\u001b[39;49m\u001b[43maxis\u001b[49m\u001b[43m)\u001b[49m\n",
      "File \u001b[0;32m~/AlgoTrading/Stock-Prediction-Models/stock-env/lib/python3.9/site-packages/pandas/core/generic.py:4301\u001b[0m, in \u001b[0;36mNDFrame.xs\u001b[0;34m(self, key, axis, level, drop_level)\u001b[0m\n\u001b[1;32m   4299\u001b[0m             new_index \u001b[38;5;241m=\u001b[39m index[loc]\n\u001b[1;32m   4300\u001b[0m \u001b[38;5;28;01melse\u001b[39;00m:\n\u001b[0;32m-> 4301\u001b[0m     loc \u001b[38;5;241m=\u001b[39m \u001b[43mindex\u001b[49m\u001b[38;5;241;43m.\u001b[39;49m\u001b[43mget_loc\u001b[49m\u001b[43m(\u001b[49m\u001b[43mkey\u001b[49m\u001b[43m)\u001b[49m\n\u001b[1;32m   4303\u001b[0m     \u001b[38;5;28;01mif\u001b[39;00m \u001b[38;5;28misinstance\u001b[39m(loc, np\u001b[38;5;241m.\u001b[39mndarray):\n\u001b[1;32m   4304\u001b[0m         \u001b[38;5;28;01mif\u001b[39;00m loc\u001b[38;5;241m.\u001b[39mdtype \u001b[38;5;241m==\u001b[39m np\u001b[38;5;241m.\u001b[39mbool_:\n",
      "File \u001b[0;32m~/AlgoTrading/Stock-Prediction-Models/stock-env/lib/python3.9/site-packages/pandas/core/indexes/base.py:3812\u001b[0m, in \u001b[0;36mIndex.get_loc\u001b[0;34m(self, key)\u001b[0m\n\u001b[1;32m   3807\u001b[0m     \u001b[38;5;28;01mif\u001b[39;00m \u001b[38;5;28misinstance\u001b[39m(casted_key, \u001b[38;5;28mslice\u001b[39m) \u001b[38;5;129;01mor\u001b[39;00m (\n\u001b[1;32m   3808\u001b[0m         \u001b[38;5;28misinstance\u001b[39m(casted_key, abc\u001b[38;5;241m.\u001b[39mIterable)\n\u001b[1;32m   3809\u001b[0m         \u001b[38;5;129;01mand\u001b[39;00m \u001b[38;5;28many\u001b[39m(\u001b[38;5;28misinstance\u001b[39m(x, \u001b[38;5;28mslice\u001b[39m) \u001b[38;5;28;01mfor\u001b[39;00m x \u001b[38;5;129;01min\u001b[39;00m casted_key)\n\u001b[1;32m   3810\u001b[0m     ):\n\u001b[1;32m   3811\u001b[0m         \u001b[38;5;28;01mraise\u001b[39;00m InvalidIndexError(key)\n\u001b[0;32m-> 3812\u001b[0m     \u001b[38;5;28;01mraise\u001b[39;00m \u001b[38;5;167;01mKeyError\u001b[39;00m(key) \u001b[38;5;28;01mfrom\u001b[39;00m \u001b[38;5;21;01merr\u001b[39;00m\n\u001b[1;32m   3813\u001b[0m \u001b[38;5;28;01mexcept\u001b[39;00m \u001b[38;5;167;01mTypeError\u001b[39;00m:\n\u001b[1;32m   3814\u001b[0m     \u001b[38;5;66;03m# If we have a listlike key, _check_indexing_error will raise\u001b[39;00m\n\u001b[1;32m   3815\u001b[0m     \u001b[38;5;66;03m#  InvalidIndexError. Otherwise we fall through and re-raise\u001b[39;00m\n\u001b[1;32m   3816\u001b[0m     \u001b[38;5;66;03m#  the TypeError.\u001b[39;00m\n\u001b[1;32m   3817\u001b[0m     \u001b[38;5;28mself\u001b[39m\u001b[38;5;241m.\u001b[39m_check_indexing_error(key)\n",
      "\u001b[0;31mKeyError\u001b[0m: True"
     ]
    }
   ],
   "source": [
    "#calculate metrics\n",
    "bench_return = round(((price.Bench_Bal.iloc[-1]/price.Bench_Bal.iloc[0]) - 1) * 100, 2)\n",
    "bench_cagr = round(((((price.Bench_Bal.iloc[-1]/price.Bench_Bal.iloc[0])**(1/YEARS))-1)*100), 2)\n",
    "sys_return = round(((price.Sys_Bal.iloc[-1]/price.Sys_Bal.iloc[0]) - 1) * 100, 2)\n",
    "sys_cagr = round(((((price.Sys_Bal.iloc[-1]/price.Sys_Bal.iloc[0])**(1/YEARS))-1)*100), 2)\n",
    "sys_in_market = round((price.Long.value_counts().loc[True] / len(price)) * 100)\n",
    "sys_win = price.Sys_Ret[price.Sys_Ret > 1.0].count()\n",
    "sys_loss = price.Sys_Ret[price.Sys_Ret < 1.0].count()\n",
    "sys_winrate = round(sys_win / (sys_win + sys_loss) * 100, 2)\n",
    "\n",
    "print(f'Benchmark Total return: {bench_return}%')\n",
    "print(f'Benchmark CAGR: {bench_cagr}')\n",
    "print(f'Benchmark DD: {bench_dd}%')\n",
    "print('')\n",
    "print(f'System Total return: {sys_return}%')\n",
    "print(f'System CAGR: {sys_cagr}')\n",
    "print(f'System DD: {sys_dd}%')\n",
    "print(f'Time in Market: {sys_in_market}%')\n",
    "print(f'Trades Won: {sys_win}')\n",
    "print(f'Trades Loss: {sys_loss}')\n",
    "print(f'Winrate: {sys_winrate}%')"
   ]
  },
  {
   "cell_type": "code",
   "execution_count": 16,
   "metadata": {},
   "outputs": [],
   "source": [
    "#define list of ETFs to backtest\n",
    "symbols = ['^GSPC', '^DJI', '^IXIC', '^RUT', '^N225','^BSESN']"
   ]
  },
  {
   "cell_type": "code",
   "execution_count": 17,
   "metadata": {},
   "outputs": [],
   "source": [
    "#create backtesting function\n",
    "def backtest(s):\n",
    "    #download data\n",
    "    price = yf.download(s, start=START, end=END)\n",
    "    \n",
    "    #drop redundant columns\n",
    "    price = price.drop(['Volume', 'Adj Close'], axis=1)\n",
    "    \n",
    "    #calculate benchmark return and balance\n",
    "    price['Return'] = price.Close / price.Close.shift(1)\n",
    "    price.Return.iat[0] = 1\n",
    "    price['Bench_Bal'] = STARTING_BALANCE * price.Return.cumprod()\n",
    "    \n",
    "    #calculate benchmark drawdown\n",
    "    price['Bench_Peak'] = price.Bench_Bal.cummax()\n",
    "    price['Bench_DD'] = price.Bench_Bal - price.Bench_Peak\n",
    "    \n",
    "    #calculate additional columns for strategy\n",
    "    #daily range\n",
    "    price['Range'] = price.High - price.Low\n",
    "    #distance between close and daily low\n",
    "    price['Dist'] = abs(price.Close - price.Low)\n",
    "    #distance as % of range\n",
    "    price['Pct'] = (price.Dist / price.Range) * 100\n",
    "    \n",
    "    #identify entries and allocate trading fees\n",
    "    price['Long'] = np.logical_and((price.Pct < PCT_THRESH), (price.Range > 10))\n",
    "    \n",
    "    #calculate system return and balance\n",
    "    price['Sys_Ret'] = np.where(price.Long.shift(1) == True, price.Return, 1)\n",
    "    price['Sys_Bal'] = (STARTING_BALANCE * price.Sys_Ret.cumprod())\n",
    "    \n",
    "    #calculate system drawdown\n",
    "    price['Sys_Peak'] = price.Sys_Bal.cummax()\n",
    "    price['Sys_DD'] = price.Sys_Bal - price.Sys_Peak\n",
    "    \n",
    "    #calculate metrics\n",
    "    bench_cagr = round(((((price.Bench_Bal.iloc[-1]/price.Bench_Bal.iloc[0])**(1/YEARS))-1)*100), 2)\n",
    "    bench_dd = round((price.Bench_DD / price.Bench_Peak).min() * 100, 2)\n",
    "    sys_cagr = round(((((price.Sys_Bal.iloc[-1]/price.Sys_Bal.iloc[0])**(1/YEARS))-1)*100), 2)\n",
    "    sys_dd = round(((price.Sys_DD / price.Sys_Peak).min()) * 100, 2)\n",
    "    \n",
    "    return bench_cagr, sys_cagr"
   ]
  },
  {
   "cell_type": "code",
   "execution_count": 19,
   "metadata": {},
   "outputs": [
    {
     "name": "stderr",
     "output_type": "stream",
     "text": [
      "[*********************100%%**********************]  1 of 1 completed\n",
      "[*********************100%%**********************]  1 of 1 completed\n",
      "[*********************100%%**********************]  1 of 1 completed\n"
     ]
    },
    {
     "name": "stdout",
     "output_type": "stream",
     "text": [
      "[25.29]\n",
      "[10.94]\n",
      "[25.29, 13.87]\n",
      "[10.94, 6.35]\n",
      "[25.29, 13.87, 28.69]\n",
      "[10.94, 6.35, 8.48]\n"
     ]
    },
    {
     "name": "stderr",
     "output_type": "stream",
     "text": [
      "[*********************100%%**********************]  1 of 1 completed\n",
      "[*********************100%%**********************]  1 of 1 completed\n"
     ]
    },
    {
     "name": "stdout",
     "output_type": "stream",
     "text": [
      "[25.29, 13.87, 28.69, 11.81]\n",
      "[10.94, 6.35, 8.48, 17.3]\n",
      "[25.29, 13.87, 28.69, 11.81, 17.32]\n",
      "[10.94, 6.35, 8.48, 17.3, 1.07]\n"
     ]
    },
    {
     "name": "stderr",
     "output_type": "stream",
     "text": [
      "[*********************100%%**********************]  1 of 1 completed"
     ]
    },
    {
     "name": "stdout",
     "output_type": "stream",
     "text": [
      "[25.29, 13.87, 28.69, 11.81, 17.32, 13.14]\n",
      "[10.94, 6.35, 8.48, 17.3, 1.07, 0.22]\n"
     ]
    },
    {
     "name": "stderr",
     "output_type": "stream",
     "text": [
      "\n"
     ]
    }
   ],
   "source": [
    "#backtest multiple symbols\n",
    "bc = []\n",
    "sc = []\n",
    "\n",
    "\n",
    "for symbol in symbols:\n",
    "    bench_cagr, sys_cagr = backtest(symbol)\n",
    "    bc.append(bench_cagr)\n",
    "    sc.append(sys_cagr)\n",
    "    print(bc)\n",
    "    print(sc)"
   ]
  },
  {
   "cell_type": "code",
   "execution_count": 20,
   "metadata": {},
   "outputs": [
    {
     "data": {
      "image/png": "[encoded data removed]",
      "text/plain": [
       "<Figure size 800x550 with 1 Axes>"
      ]
     },
     "metadata": {},
     "output_type": "display_data"
    }
   ],
   "source": [
    "#plot data\n",
    "x_indices = np.arange(len(symbols))\n",
    "width = 0.2\n",
    "\n",
    "plt.bar(x_indices - width / 2, bc, width = width, label = 'Benchmark', color=\"red\")\n",
    "plt.bar(x_indices + width / 2, sc, width = width, label = 'System', color=\"blue\")\n",
    "   \n",
    "plt.xticks(ticks = x_indices, labels = symbols)\n",
    "\n",
    "plt.legend()\n",
    "\n",
    "plt.title('Backtest CAGR')\n",
    "plt.xlabel('Symbols')\n",
    "plt.ylabel('% CAGR')\n",
    "plt.tight_layout()\n",
    "\n",
    "plt.show()"
   ]
  }
 ],
 "metadata": {
  "kernelspec": {
   "display_name": "stock-env",
   "language": "python",
   "name": "python3"
  },
  "language_info": {
   "codemirror_mode": {
    "name": "ipython",
    "version": 3
   },
   "file_extension": ".py",
   "mimetype": "text/x-python",
   "name": "python",
   "nbconvert_exporter": "python",
   "pygments_lexer": "ipython3",
   "version": "3.9.6"
  }
 },
 "nbformat": 4,
 "nbformat_minor": 4
}
